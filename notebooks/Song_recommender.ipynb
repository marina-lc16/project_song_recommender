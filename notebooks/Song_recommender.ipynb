{
 "cells": [
  {
   "cell_type": "markdown",
   "metadata": {},
   "source": [
    "# Dimensionality reduction"
   ]
  },
  {
   "cell_type": "markdown",
   "metadata": {},
   "source": [
    "### Importing libraries"
   ]
  },
  {
   "cell_type": "code",
   "execution_count": 1,
   "metadata": {},
   "outputs": [],
   "source": [
    "#importing libraries\n",
    "from config import *\n",
    "import spotipy\n",
    "import json\n",
    "from spotipy.oauth2 import SpotifyClientCredentials\n",
    "import pandas as pd\n",
    "import numpy as np\n",
    "import random\n",
    "import pprint\n",
    "import pickle\n",
    "from sklearn import datasets \n",
    "from sklearn.preprocessing import StandardScaler\n",
    "from sklearn.cluster import KMeans\n",
    "from matplotlib import pyplot\n",
    "from sklearn.metrics import silhouette_score\n",
    "from IPython.display import IFrame"
   ]
  },
  {
   "cell_type": "code",
   "execution_count": 2,
   "metadata": {},
   "outputs": [],
   "source": [
    "#Initialize SpotiPy with user credentias #\n",
    "sp = spotipy.Spotify(auth_manager=SpotifyClientCredentials(client_id=client_id,\n",
    "                                                           client_secret=client_secret))"
   ]
  },
  {
   "cell_type": "markdown",
   "metadata": {},
   "source": [
    "### Loading data files"
   ]
  },
  {
   "cell_type": "code",
   "execution_count": 16,
   "metadata": {},
   "outputs": [],
   "source": [
    "X = pd.read_csv(\"concat_features_final.csv\")\n",
    "with open(\"songs_scaler.pickle\", \"rb\") as f: \n",
    "        scaler = pickle.load(f)\n",
    "with open(\"kmeans.pickle\", \"rb\") as f: \n",
    "        kmeans = pickle.load(f) \n",
    "with open(\"tsne.pickle\", \"rb\") as f: \n",
    "        tsne = pickle.load(f) "
   ]
  },
  {
   "cell_type": "code",
   "execution_count": 31,
   "metadata": {},
   "outputs": [],
   "source": [
    "def song_recommender():\n",
    "    song_title = input(\"What song title did you like listening to recently the most: \")\n",
    "    song_artist = input(\"From which artist? \")\n",
    "    matches = search_id(song_title, song_artist, limit=5)\n",
    "    # create a pandas dataframe with the matches. (no the id)\n",
    "    # input(\"Select the right song \")\n",
    "    user_song_audio_features = get_audio_features([user_song_id])\n",
    "    # load the scaler\n",
    "    user_song_audio_features_scaled = song_scaler.transform(user_song_audio_features)\n",
    "    # load the tsne\n",
    "    user_song_tsne_features = tsne.transform(user_song_audio_features_scaled)\n",
    "    # predict the user song cluster\n",
    "    # load the the clustering model\n",
    "    user_song_cluster = kmeans.predict(user_song_audio_features)\n",
    "    if song_id in all_songs[all_songs['Hot']==\"Y\"]['id'].values:\n",
    "        cpu_songs = all_songs[(all_songs['Hot']==\"Y\") & (all_songs['cluster']==user_cluster)].sample(5)\n",
    "        print(\"Nice! You will probably love listening to this popular songs as well: \",cpu_songs)\n",
    "        display(cpu_songs[['artist','title']])\n",
    "        #cpu_song = random.choice(HotSongs[\"Title\"].values) \n",
    "    else:\n",
    "        cpu_songs = all_songs[(all_songs['Hot']==\"N\") & (all_songs['cluster']==user_cluster)].sample(5)\n",
    "        print(\"Nice! You will probably love listening these others songs as well: \",cpu_songs)\n",
    "        display(cpu_songs[['artist','title']])"
   ]
  },
  {
   "cell_type": "code",
   "execution_count": 32,
   "metadata": {},
   "outputs": [
    {
     "ename": "NameError",
     "evalue": "name 'answer' is not defined",
     "output_type": "error",
     "traceback": [
      "\u001b[0;31m---------------------------------------------------------------------------\u001b[0m",
      "\u001b[0;31mNameError\u001b[0m                                 Traceback (most recent call last)",
      "Cell \u001b[0;32mIn[32], line 1\u001b[0m\n\u001b[0;32m----> 1\u001b[0m answer \u001b[38;5;241m==\u001b[39m \u001b[38;5;124m\"\u001b[39m\u001b[38;5;124mYes\u001b[39m\u001b[38;5;124m\"\u001b[39m\n\u001b[1;32m      2\u001b[0m \u001b[38;5;28;01mwhile\u001b[39;00m answer \u001b[38;5;241m==\u001b[39m\u001b[38;5;124m\"\u001b[39m\u001b[38;5;124mYes\u001b[39m\u001b[38;5;124m\"\u001b[39m:\n\u001b[1;32m      3\u001b[0m     song_recommender()\n",
      "\u001b[0;31mNameError\u001b[0m: name 'answer' is not defined"
     ]
    }
   ],
   "source": [
    "answer == \"Yes\"\n",
    "while answer ==\"Yes\":\n",
    "    song_recommender()\n",
    "    answer == input(\"Do you want another recomendation? (Yes/No)\")\n",
    "    while answer not in [\"Yes\",\"No\"]:\n",
    "        print()\n",
    "        print(\"I said (Yes/No)!!!!!\")\n",
    "        answer == input(\"Do you want another recomendation? (Yes/No)\")"
   ]
  },
  {
   "cell_type": "code",
   "execution_count": null,
   "metadata": {},
   "outputs": [],
   "source": []
  },
  {
   "cell_type": "code",
   "execution_count": null,
   "metadata": {},
   "outputs": [],
   "source": []
  }
 ],
 "metadata": {
  "colab": {
   "provenance": []
  },
  "kernelspec": {
   "display_name": "Python 3 (ipykernel)",
   "language": "python",
   "name": "python3"
  },
  "language_info": {
   "codemirror_mode": {
    "name": "ipython",
    "version": 3
   },
   "file_extension": ".py",
   "mimetype": "text/x-python",
   "name": "python",
   "nbconvert_exporter": "python",
   "pygments_lexer": "ipython3",
   "version": "3.11.0"
  }
 },
 "nbformat": 4,
 "nbformat_minor": 1
}
